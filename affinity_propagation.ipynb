{
 "cells": [
  {
   "cell_type": "markdown",
   "metadata": {},
   "source": [
    "# Affinity_Propagation"
   ]
  },
  {
   "cell_type": "code",
   "execution_count": 11,
   "metadata": {},
   "outputs": [
    {
     "data": {
      "text/html": [
       "<div>\n",
       "<style scoped>\n",
       "    .dataframe tbody tr th:only-of-type {\n",
       "        vertical-align: middle;\n",
       "    }\n",
       "\n",
       "    .dataframe tbody tr th {\n",
       "        vertical-align: top;\n",
       "    }\n",
       "\n",
       "    .dataframe thead th {\n",
       "        text-align: right;\n",
       "    }\n",
       "</style>\n",
       "<table border=\"1\" class=\"dataframe\">\n",
       "  <thead>\n",
       "    <tr style=\"text-align: right;\">\n",
       "      <th></th>\n",
       "      <th>Participent</th>\n",
       "      <th>Tax Rate</th>\n",
       "      <th>Fee</th>\n",
       "      <th>Interest Rate</th>\n",
       "      <th>Quantity Limit</th>\n",
       "      <th>Price Limit</th>\n",
       "    </tr>\n",
       "  </thead>\n",
       "  <tbody>\n",
       "    <tr>\n",
       "      <th>0</th>\n",
       "      <td>Alice</td>\n",
       "      <td>3</td>\n",
       "      <td>4</td>\n",
       "      <td>3</td>\n",
       "      <td>2</td>\n",
       "      <td>1</td>\n",
       "    </tr>\n",
       "    <tr>\n",
       "      <th>1</th>\n",
       "      <td>Bob</td>\n",
       "      <td>4</td>\n",
       "      <td>3</td>\n",
       "      <td>5</td>\n",
       "      <td>1</td>\n",
       "      <td>1</td>\n",
       "    </tr>\n",
       "    <tr>\n",
       "      <th>2</th>\n",
       "      <td>Cary</td>\n",
       "      <td>3</td>\n",
       "      <td>5</td>\n",
       "      <td>3</td>\n",
       "      <td>3</td>\n",
       "      <td>3</td>\n",
       "    </tr>\n",
       "    <tr>\n",
       "      <th>3</th>\n",
       "      <td>Doug</td>\n",
       "      <td>2</td>\n",
       "      <td>1</td>\n",
       "      <td>3</td>\n",
       "      <td>3</td>\n",
       "      <td>2</td>\n",
       "    </tr>\n",
       "    <tr>\n",
       "      <th>4</th>\n",
       "      <td>Edna</td>\n",
       "      <td>1</td>\n",
       "      <td>1</td>\n",
       "      <td>3</td>\n",
       "      <td>2</td>\n",
       "      <td>3</td>\n",
       "    </tr>\n",
       "  </tbody>\n",
       "</table>\n",
       "</div>"
      ],
      "text/plain": [
       "  Participent  Tax Rate  Fee  Interest Rate  Quantity Limit  Price Limit\n",
       "0       Alice         3    4              3               2            1\n",
       "1         Bob         4    3              5               1            1\n",
       "2        Cary         3    5              3               3            3\n",
       "3        Doug         2    1              3               3            2\n",
       "4        Edna         1    1              3               2            3"
      ]
     },
     "execution_count": 11,
     "metadata": {},
     "output_type": "execute_result"
    }
   ],
   "source": [
    "import numpy as np\n",
    "import pandas as pd\n",
    "d = {}\n",
    "d['Participent'] = ['Alice','Bob','Cary','Doug','Edna']\n",
    "d['Tax Rate'] = [3,4,3,2,1]\n",
    "d['Fee'] = [4,3,5,1,1]\n",
    "d['Interest Rate'] = [3,5,3,3,3]\n",
    "d['Quantity Limit'] = [2,1,3,3,2]\n",
    "d['Price Limit'] = [1,1,3,2,3]\n",
    "df = pd.DataFrame(d) #dataset creation\n",
    "df"
   ]
  },
  {
   "cell_type": "code",
   "execution_count": null,
   "metadata": {},
   "outputs": [],
   "source": [
    "v=df.iloc[:,1:].values #except first column storing the other columns in v\n",
    "damping = 0.8 #noise for ensuring converge\n",
    "n = 150 #number of iteration"
   ]
  },
  {
   "cell_type": "markdown",
   "metadata": {},
   "source": [
    "# Creating Similarity,Responsibility,Availabilty and Criterion Matrix "
   ]
  },
  {
   "cell_type": "code",
   "execution_count": 12,
   "metadata": {},
   "outputs": [],
   "source": [
    "smatx = np.zeros(v.shape) #similarity\n",
    "rmatx = np.zeros(v.shape) #responsibilty\n",
    "amatx = np.zeros(v.shape) #availability\n",
    "cmatx = np.zeros(v.shape) #criterion\n",
    "\n",
    "def similarity_matrix():\n",
    "    for i in range(v.shape[0]):\n",
    "        for k in range(v.shape[0]):\n",
    "            smatx[i,k] = -sum((v[i]-v[k])**2)\n",
    "    for i in range(v.shape[0]):\n",
    "        smatx[i,i]=smatx.min() #matrix r smallest value assignes it will be same\n",
    "    return smatx\n",
    "\n",
    "def responsibility_matrix():\n",
    "    for i in range(v.shape[0]):\n",
    "        for k in range(v.shape[0]):\n",
    "            rmatx[i,k] = smatx[i,k] - max((np.delete(smatx[i,:],k))+np.delete(amatx[i,:],k))\n",
    "    return rmatx\n",
    "\n",
    "def delt(d,i,j):\n",
    "  x=np.delete(d[:,i],j)\n",
    "  return(x)\n",
    "\n",
    "def availability_matrix():\n",
    "    for i in range(v.shape[0]):\n",
    "        for k in range(v.shape[0]):\n",
    "            x=delt(rmatx,k,i)\n",
    "            if(i==k):\n",
    "                amatx[i,k]=sum(x[x>0])\n",
    "            else:\n",
    "                if(rmatx[k,k]+sum(x[x>0])>0):\n",
    "                    amatx[i,k]=0\n",
    "                else:\n",
    "                    amatx[i,k]=rmatx[k,k]+sum(x[x>0])\n",
    "    return amatx"
   ]
  },
  {
   "cell_type": "markdown",
   "metadata": {},
   "source": [
    "# Iterations"
   ]
  },
  {
   "cell_type": "code",
   "execution_count": 13,
   "metadata": {},
   "outputs": [
    {
     "data": {
      "text/plain": [
       "[0, 0, 0, 3, 3]"
      ]
     },
     "execution_count": 13,
     "metadata": {},
     "output_type": "execute_result"
    }
   ],
   "source": [
    "for i in range(n):\n",
    "    similarity_matrix()\n",
    "    if i>0: #1st iteration\n",
    "        rmatx = damping*rmatx+(1-damping)*responsibility_matrix()\n",
    "        amatx = damping*amatx+(1-damping)*availability_matrix()\n",
    "    else: #later iterations\n",
    "        responsibility_matrix()\n",
    "        availability_matrix()\n",
    "cmatx = rmatx + amatx\n",
    "clusters = [np.argmax(cmatx[i]) for i in range(v.shape[0])]\n",
    "clusters"
   ]
  }
 ],
 "metadata": {
  "kernelspec": {
   "display_name": "Python 3",
   "language": "python",
   "name": "python3"
  },
  "language_info": {
   "codemirror_mode": {
    "name": "ipython",
    "version": 3
   },
   "file_extension": ".py",
   "mimetype": "text/x-python",
   "name": "python",
   "nbconvert_exporter": "python",
   "pygments_lexer": "ipython3",
   "version": "3.6.5"
  }
 },
 "nbformat": 4,
 "nbformat_minor": 2
}
