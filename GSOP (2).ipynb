{
 "cells": [
  {
   "cell_type": "markdown",
   "metadata": {},
   "source": [
    "# Gram Schmidt orthogonalization algorithm"
   ]
  },
  {
   "cell_type": "code",
   "execution_count": 42,
   "metadata": {},
   "outputs": [
    {
     "data": {
      "text/plain": [
       "array([[ 0.16903085,  0.50709255,  0.6761234 ,  0.50709255],\n",
       "       [ 0.26795581,  0.44315769, -0.73172549,  0.44315769],\n",
       "       [ 0.73341279, -0.61506664,  0.06667389,  0.28169719],\n",
       "       [-0.60144321, -0.41007491, -0.05467666,  0.68345819]])"
      ]
     },
     "execution_count": 42,
     "metadata": {},
     "output_type": "execute_result"
    }
   ],
   "source": [
    "import numpy as np\n",
    "class Gsop(object): \n",
    "    ''' finction for computing the projected matrix '''\n",
    "    \n",
    "    def __init__(self,A):\n",
    "        self.A = A\n",
    "    \n",
    "    def GS(self): \n",
    "        H=np.zeros(self.A.shape)\n",
    "        H[0]=self.A[0]/np.dot(self.A[0],self.A[0])**.5 \n",
    "        for i in range(1,self.A.shape[0]):\n",
    "            s = 0\n",
    "            for j in range(i):\n",
    "                s += np.dot(self.A[i],H[j])*H[j]\n",
    "            H[i]=(self.A[i] - s)/np.dot((self.A[i] - s),(self.A[i] - s))**0.5\n",
    "        return(H)\n",
    "\n",
    "A=np.array([[1,3,4,3],[2,5,3,5],[4,5,6,7],[3,4,5,7]])\n",
    "model = Gsop(A)\n",
    "result=model.GS()\n",
    "result"
   ]
  },
  {
   "cell_type": "code",
   "execution_count": null,
   "metadata": {},
   "outputs": [],
   "source": []
  }
 ],
 "metadata": {
  "kernelspec": {
   "display_name": "Python 3",
   "language": "python",
   "name": "python3"
  },
  "language_info": {
   "codemirror_mode": {
    "name": "ipython",
    "version": 3
   },
   "file_extension": ".py",
   "mimetype": "text/x-python",
   "name": "python",
   "nbconvert_exporter": "python",
   "pygments_lexer": "ipython3",
   "version": "3.6.5"
  }
 },
 "nbformat": 4,
 "nbformat_minor": 2
}
