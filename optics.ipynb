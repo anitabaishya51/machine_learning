{
 "cells": [
  {
   "cell_type": "markdown",
   "metadata": {},
   "source": [
    "# Optics Clustering Algorithm "
   ]
  },
  {
   "cell_type": "code",
   "execution_count": 4,
   "metadata": {},
   "outputs": [
    {
     "data": {
      "text/html": [
       "<div>\n",
       "<style scoped>\n",
       "    .dataframe tbody tr th:only-of-type {\n",
       "        vertical-align: middle;\n",
       "    }\n",
       "\n",
       "    .dataframe tbody tr th {\n",
       "        vertical-align: top;\n",
       "    }\n",
       "\n",
       "    .dataframe thead th {\n",
       "        text-align: right;\n",
       "    }\n",
       "</style>\n",
       "<table border=\"1\" class=\"dataframe\">\n",
       "  <thead>\n",
       "    <tr style=\"text-align: right;\">\n",
       "      <th></th>\n",
       "      <th>points</th>\n",
       "      <th>cluster</th>\n",
       "      <th>reachability distance</th>\n",
       "      <th>core distance</th>\n",
       "    </tr>\n",
       "  </thead>\n",
       "  <tbody>\n",
       "    <tr>\n",
       "      <th>0</th>\n",
       "      <td>[-4.112278646462144, -7.290679903998647]</td>\n",
       "      <td>0</td>\n",
       "      <td>1000</td>\n",
       "      <td>1000</td>\n",
       "    </tr>\n",
       "    <tr>\n",
       "      <th>1</th>\n",
       "      <td>[-9.080334964234575, 4.741682419540384]</td>\n",
       "      <td>0</td>\n",
       "      <td>1000</td>\n",
       "      <td>1000</td>\n",
       "    </tr>\n",
       "    <tr>\n",
       "      <th>2</th>\n",
       "      <td>[-4.500940746112175, -6.663959457731288]</td>\n",
       "      <td>0</td>\n",
       "      <td>1000</td>\n",
       "      <td>1000</td>\n",
       "    </tr>\n",
       "    <tr>\n",
       "      <th>3</th>\n",
       "      <td>[-7.140724660308923, 4.384092953743103]</td>\n",
       "      <td>0</td>\n",
       "      <td>1000</td>\n",
       "      <td>1000</td>\n",
       "    </tr>\n",
       "    <tr>\n",
       "      <th>4</th>\n",
       "      <td>[-7.867554052380145, 4.8083133879414115]</td>\n",
       "      <td>0</td>\n",
       "      <td>1000</td>\n",
       "      <td>1000</td>\n",
       "    </tr>\n",
       "  </tbody>\n",
       "</table>\n",
       "</div>"
      ],
      "text/plain": [
       "                                     points  cluster  reachability distance  \\\n",
       "0  [-4.112278646462144, -7.290679903998647]        0                   1000   \n",
       "1   [-9.080334964234575, 4.741682419540384]        0                   1000   \n",
       "2  [-4.500940746112175, -6.663959457731288]        0                   1000   \n",
       "3   [-7.140724660308923, 4.384092953743103]        0                   1000   \n",
       "4  [-7.867554052380145, 4.8083133879414115]        0                   1000   \n",
       "\n",
       "   core distance  \n",
       "0           1000  \n",
       "1           1000  \n",
       "2           1000  \n",
       "3           1000  \n",
       "4           1000  "
      ]
     },
     "execution_count": 4,
     "metadata": {},
     "output_type": "execute_result"
    },
    {
     "data": {
      "image/png": "[encoded data removed]",
      "text/plain": [
       "<Figure size 432x288 with 1 Axes>"
      ]
     },
     "metadata": {
      "needs_background": "light"
     },
     "output_type": "display_data"
    }
   ],
   "source": [
    "from sklearn.datasets import make_blobs\n",
    "import matplotlib.pyplot as plt\n",
    "import pandas as pd \n",
    "import numpy as np\n",
    "import math \n",
    "x,y=make_blobs(n_samples=100,n_features=2,centers=2,random_state=19) #extracting the dataset\n",
    "plt.scatter(x[:,0],x[:,1]) #visualising the initial dataset\n",
    "data=pd.DataFrame({'points':x.tolist(),'cluster':0,'reachability distance':1000,'core distance':1000}) #creating the intial dataset\n",
    "data.head()\n",
    "  "
   ]
  },
  {
   "cell_type": "markdown",
   "metadata": {},
   "source": [
    "# Function to Create Neighbourhood Of a Point in the Dataset"
   ]
  },
  {
   "cell_type": "code",
   "execution_count": 6,
   "metadata": {},
   "outputs": [
    {
     "data": {
      "text/html": [
       "<div>\n",
       "<style scoped>\n",
       "    .dataframe tbody tr th:only-of-type {\n",
       "        vertical-align: middle;\n",
       "    }\n",
       "\n",
       "    .dataframe tbody tr th {\n",
       "        vertical-align: top;\n",
       "    }\n",
       "\n",
       "    .dataframe thead th {\n",
       "        text-align: right;\n",
       "    }\n",
       "</style>\n",
       "<table border=\"1\" class=\"dataframe\">\n",
       "  <thead>\n",
       "    <tr style=\"text-align: right;\">\n",
       "      <th></th>\n",
       "      <th>index</th>\n",
       "      <th>distance</th>\n",
       "    </tr>\n",
       "  </thead>\n",
       "  <tbody>\n",
       "    <tr>\n",
       "      <th>0</th>\n",
       "      <td>82</td>\n",
       "      <td>0.374988</td>\n",
       "    </tr>\n",
       "    <tr>\n",
       "      <th>1</th>\n",
       "      <td>37</td>\n",
       "      <td>0.503834</td>\n",
       "    </tr>\n",
       "    <tr>\n",
       "      <th>2</th>\n",
       "      <td>64</td>\n",
       "      <td>0.624644</td>\n",
       "    </tr>\n",
       "    <tr>\n",
       "      <th>3</th>\n",
       "      <td>15</td>\n",
       "      <td>0.644598</td>\n",
       "    </tr>\n",
       "    <tr>\n",
       "      <th>4</th>\n",
       "      <td>2</td>\n",
       "      <td>0.737453</td>\n",
       "    </tr>\n",
       "  </tbody>\n",
       "</table>\n",
       "</div>"
      ],
      "text/plain": [
       "   index  distance\n",
       "0     82  0.374988\n",
       "1     37  0.503834\n",
       "2     64  0.624644\n",
       "3     15  0.644598\n",
       "4      2  0.737453"
      ]
     },
     "execution_count": 6,
     "metadata": {},
     "output_type": "execute_result"
    }
   ],
   "source": [
    "eps=5 #required parameter\n",
    "m=3 #required parameter\n",
    "def nbhd_x(n):\n",
    "    '''\n",
    "    creating a function to check the number of points in their neighbourhood along with their distance w.r.t the point\n",
    "    using euclidean distance and checking with epsilon\n",
    "    '''\n",
    "    \n",
    "    nbhd=[]\n",
    "    idx=[]\n",
    "    for i in range(len(x)):\n",
    "            d=math.sqrt(sum([(a - b) ** 2 for a, b in zip(x[n], x[i])])) \n",
    "            if d!=0 and d<eps: \n",
    "                nbhd.append(d)\n",
    "                idx.append(i) #extracting the neighbourhood point's index\n",
    "    df=pd.DataFrame({\"index\":idx,\"distance\":nbhd}) #keeping the index and distance \n",
    "    return(df.sort_values(\"distance\").reset_index(drop=True)) #sorting it \n",
    "nbhd_x(0).head()"
   ]
  },
  {
   "cell_type": "markdown",
   "metadata": {},
   "source": [
    "# Updating the Cluster,Reachability Distance,Core distance by creating a function"
   ]
  },
  {
   "cell_type": "code",
   "execution_count": 9,
   "metadata": {},
   "outputs": [
    {
     "data": {
      "text/html": [
       "<div>\n",
       "<style scoped>\n",
       "    .dataframe tbody tr th:only-of-type {\n",
       "        vertical-align: middle;\n",
       "    }\n",
       "\n",
       "    .dataframe tbody tr th {\n",
       "        vertical-align: top;\n",
       "    }\n",
       "\n",
       "    .dataframe thead th {\n",
       "        text-align: right;\n",
       "    }\n",
       "</style>\n",
       "<table border=\"1\" class=\"dataframe\">\n",
       "  <thead>\n",
       "    <tr style=\"text-align: right;\">\n",
       "      <th></th>\n",
       "      <th>points</th>\n",
       "      <th>cluster</th>\n",
       "      <th>reachability distance</th>\n",
       "      <th>core distance</th>\n",
       "    </tr>\n",
       "  </thead>\n",
       "  <tbody>\n",
       "    <tr>\n",
       "      <th>0</th>\n",
       "      <td>[-4.112278646462144, -7.290679903998647]</td>\n",
       "      <td>1</td>\n",
       "      <td>0.374988</td>\n",
       "      <td>0.624644</td>\n",
       "    </tr>\n",
       "    <tr>\n",
       "      <th>1</th>\n",
       "      <td>[-9.080334964234575, 4.741682419540384]</td>\n",
       "      <td>2</td>\n",
       "      <td>0.450918</td>\n",
       "      <td>0.503413</td>\n",
       "    </tr>\n",
       "    <tr>\n",
       "      <th>2</th>\n",
       "      <td>[-4.500940746112175, -6.663959457731288]</td>\n",
       "      <td>1</td>\n",
       "      <td>0.436554</td>\n",
       "      <td>0.680569</td>\n",
       "    </tr>\n",
       "    <tr>\n",
       "      <th>3</th>\n",
       "      <td>[-7.140724660308923, 4.384092953743103]</td>\n",
       "      <td>2</td>\n",
       "      <td>0.368991</td>\n",
       "      <td>0.490799</td>\n",
       "    </tr>\n",
       "    <tr>\n",
       "      <th>4</th>\n",
       "      <td>[-7.867554052380145, 4.8083133879414115]</td>\n",
       "      <td>2</td>\n",
       "      <td>0.423573</td>\n",
       "      <td>0.427238</td>\n",
       "    </tr>\n",
       "  </tbody>\n",
       "</table>\n",
       "</div>"
      ],
      "text/plain": [
       "                                     points  cluster  reachability distance  \\\n",
       "0  [-4.112278646462144, -7.290679903998647]        1               0.374988   \n",
       "1   [-9.080334964234575, 4.741682419540384]        2               0.450918   \n",
       "2  [-4.500940746112175, -6.663959457731288]        1               0.436554   \n",
       "3   [-7.140724660308923, 4.384092953743103]        2               0.368991   \n",
       "4  [-7.867554052380145, 4.8083133879414115]        2               0.423573   \n",
       "\n",
       "   core distance  \n",
       "0       0.624644  \n",
       "1       0.503413  \n",
       "2       0.680569  \n",
       "3       0.490799  \n",
       "4       0.427238  "
      ]
     },
     "execution_count": 9,
     "metadata": {},
     "output_type": "execute_result"
    }
   ],
   "source": [
    "def iterate(n,df,cluster):\n",
    "    if(df.shape[0]>m): #if cardinality of the neighbourhood is greater than m, its a core point\n",
    "         data.iloc[n,3]=df.iloc[m-1,1] #updating the core distance\n",
    "    data.iloc[n,1]=cluster #assisgning the initial cluster \n",
    "    for i,j in zip(df.iloc[ : ,1],df.iloc[:,0]): #i will range for neighbourhood distance and j for index in x\n",
    "        rec=max(i,df.iloc[m-1,1]) #assigning the reachability distance\n",
    "        if(rec<data.iloc[j,2]): \n",
    "            data.iloc[j,2]=rec\n",
    "    for h in df.iloc[:,0]: #i will range for index in x and for loop is for checking wheather cluster is assigned or not\n",
    "        if data.iloc[h,1]==0:\n",
    "            nbhr=nbhd_x(h) #check for neighbourhood if it is unclustered\n",
    "        if nbhr.shape[0]>m:\n",
    "            data.iloc[h,1]=cluster\n",
    "            data.iloc[h,3]=nbhr.iloc[m-1,1]\n",
    "        for i,j in zip(nbhr.iloc[:,0],nbhr.iloc[:,1]): #checking for the neighbouhood points\n",
    "            rec=max(j,nbhr.iloc[m-1,1])\n",
    "            if rec<data.iloc[i,2]:\n",
    "                    data.iloc[i,2]=rec\n",
    "            else:\n",
    "                pass\n",
    "    else:\n",
    "         pass    \n",
    "\n",
    "cluster=1 #initialising the cluster\n",
    "for i in data.index:\n",
    "    if data.iloc[i,1]==0:\n",
    "        df=nbhd_x(i)\n",
    "        iterate(i,df,cluster) \n",
    "        cluster=cluster+1 \n",
    "\n",
    "data.head() #calling the updated data"
   ]
  },
  {
   "cell_type": "code",
   "execution_count": null,
   "metadata": {},
   "outputs": [],
   "source": [
    "# Visualisation of the clusters through graph"
   ]
  },
  {
   "cell_type": "code",
   "execution_count": 10,
   "metadata": {},
   "outputs": [
    {
     "data": {
      "text/plain": [
       "<matplotlib.collections.PathCollection at 0x1f232c23dd8>"
      ]
     },
     "execution_count": 10,
     "metadata": {},
     "output_type": "execute_result"
    },
    {
     "data": {
      "image/png": "[encoded data removed]",
      "text/plain": [
       "<Figure size 432x288 with 1 Axes>"
      ]
     },
     "metadata": {
      "needs_background": "light"
     },
     "output_type": "display_data"
    }
   ],
   "source": [
    "plt.scatter(x[:,0],x[:,1],c=data['cluster'])"
   ]
  },
  {
   "cell_type": "code",
   "execution_count": null,
   "metadata": {},
   "outputs": [],
   "source": []
  },
  {
   "cell_type": "code",
   "execution_count": null,
   "metadata": {},
   "outputs": [],
   "source": []
  }
 ],
 "metadata": {
  "kernelspec": {
   "display_name": "Python 3",
   "language": "python",
   "name": "python3"
  },
  "language_info": {
   "codemirror_mode": {
    "name": "ipython",
    "version": 3
   },
   "file_extension": ".py",
   "mimetype": "text/x-python",
   "name": "python",
   "nbconvert_exporter": "python",
   "pygments_lexer": "ipython3",
   "version": "3.6.5"
  }
 },
 "nbformat": 4,
 "nbformat_minor": 2
}
